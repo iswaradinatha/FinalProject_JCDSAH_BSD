{
 "cells": [
  {
   "cell_type": "code",
   "execution_count": 38,
   "metadata": {},
   "outputs": [],
   "source": [
    "import pandas as pd\n",
    "import matplotlib.pyplot as plt\n",
    "import seaborn as sns\n",
    "import numpy as np\n",
    "\n",
    "from sklearn.linear_model import LogisticRegression\n",
    "from sklearn.preprocessing import RobustScaler, MinMaxScaler, StandardScaler\n",
    "from sklearn.metrics import classification_report, confusion_matrix\n",
    "from sklearn.ensemble import RandomForestClassifier, GradientBoostingClassifier\n",
    "from imblearn.over_sampling import SMOTE\n",
    "from sklearn.tree import DecisionTreeClassifier\n",
    "from sklearn.model_selection import train_test_split,GridSearchCV,RandomizedSearchCV\n",
    "from statsmodels.stats.outliers_influence import variance_inflation_factor\n",
    "from sklearn.tree import DecisionTreeClassifier"
   ]
  },
  {
   "cell_type": "code",
   "execution_count": 39,
   "metadata": {},
   "outputs": [],
   "source": [
    "df = pd.read_csv('./data/final_earthquake_volcano.csv')"
   ]
  },
  {
   "cell_type": "code",
   "execution_count": 40,
   "metadata": {
    "scrolled": true
   },
   "outputs": [],
   "source": [
    "# for modelling we did not need: year, lat and lon, country and closest volcanic names\n",
    "df=df.drop(['eq_year','ve_year',\n",
    "          'eq_lat','eq_lon','ve_lat','ve_lon',\n",
    "          've_country','ve_closest'], axis=1)"
   ]
  },
  {
   "cell_type": "code",
   "execution_count": 41,
   "metadata": {
    "scrolled": true
   },
   "outputs": [
    {
     "data": {
      "text/html": [
       "<div>\n",
       "<style scoped>\n",
       "    .dataframe tbody tr th:only-of-type {\n",
       "        vertical-align: middle;\n",
       "    }\n",
       "\n",
       "    .dataframe tbody tr th {\n",
       "        vertical-align: top;\n",
       "    }\n",
       "\n",
       "    .dataframe thead th {\n",
       "        text-align: right;\n",
       "    }\n",
       "</style>\n",
       "<table border=\"1\" class=\"dataframe\">\n",
       "  <thead>\n",
       "    <tr style=\"text-align: right;\">\n",
       "      <th></th>\n",
       "      <th>eq_depth</th>\n",
       "      <th>eq_mag</th>\n",
       "      <th>ve_region</th>\n",
       "      <th>ve_type</th>\n",
       "      <th>ve_ele</th>\n",
       "      <th>ve_rock_chem</th>\n",
       "      <th>ve_tect_zone</th>\n",
       "      <th>ve_tect_crust</th>\n",
       "      <th>eq_ve_dist</th>\n",
       "      <th>eq_ve_yeardiff</th>\n",
       "      <th>potential_eruption</th>\n",
       "    </tr>\n",
       "  </thead>\n",
       "  <tbody>\n",
       "    <tr>\n",
       "      <th>0</th>\n",
       "      <td>131.6</td>\n",
       "      <td>6.0</td>\n",
       "      <td>Japan, Taiwan, Marianas</td>\n",
       "      <td>Submarine</td>\n",
       "      <td>-8</td>\n",
       "      <td>Intermediate</td>\n",
       "      <td>Subduction Zone</td>\n",
       "      <td>Intermediate Crust</td>\n",
       "      <td>112.162847</td>\n",
       "      <td>24</td>\n",
       "      <td>0</td>\n",
       "    </tr>\n",
       "    <tr>\n",
       "      <th>1</th>\n",
       "      <td>80.0</td>\n",
       "      <td>5.8</td>\n",
       "      <td>Indonesia</td>\n",
       "      <td>Stratovolcano</td>\n",
       "      <td>1325</td>\n",
       "      <td>Intermediate</td>\n",
       "      <td>Subduction Zone</td>\n",
       "      <td>Oceanic Crust</td>\n",
       "      <td>51.898694</td>\n",
       "      <td>51</td>\n",
       "      <td>0</td>\n",
       "    </tr>\n",
       "    <tr>\n",
       "      <th>2</th>\n",
       "      <td>20.0</td>\n",
       "      <td>6.2</td>\n",
       "      <td>New Zealand to Fiji</td>\n",
       "      <td>Caldera</td>\n",
       "      <td>515</td>\n",
       "      <td>Intermediate</td>\n",
       "      <td>Subduction Zone</td>\n",
       "      <td>Oceanic Crust</td>\n",
       "      <td>147.078303</td>\n",
       "      <td>49</td>\n",
       "      <td>1</td>\n",
       "    </tr>\n",
       "    <tr>\n",
       "      <th>3</th>\n",
       "      <td>15.0</td>\n",
       "      <td>5.8</td>\n",
       "      <td>Antarctica</td>\n",
       "      <td>Shield</td>\n",
       "      <td>1370</td>\n",
       "      <td>Mafic</td>\n",
       "      <td>Subduction Zone</td>\n",
       "      <td>Oceanic Crust</td>\n",
       "      <td>176.936371</td>\n",
       "      <td>42</td>\n",
       "      <td>0</td>\n",
       "    </tr>\n",
       "    <tr>\n",
       "      <th>4</th>\n",
       "      <td>15.0</td>\n",
       "      <td>5.8</td>\n",
       "      <td>Philippines and SE Asia</td>\n",
       "      <td>Stratovolcano(es)</td>\n",
       "      <td>1565</td>\n",
       "      <td>Intermediate</td>\n",
       "      <td>Subduction Zone</td>\n",
       "      <td>Continental Crust</td>\n",
       "      <td>274.261200</td>\n",
       "      <td>51</td>\n",
       "      <td>0</td>\n",
       "    </tr>\n",
       "  </tbody>\n",
       "</table>\n",
       "</div>"
      ],
      "text/plain": [
       "   eq_depth  eq_mag                ve_region            ve_type  ve_ele  \\\n",
       "0     131.6     6.0  Japan, Taiwan, Marianas          Submarine      -8   \n",
       "1      80.0     5.8                Indonesia      Stratovolcano    1325   \n",
       "2      20.0     6.2      New Zealand to Fiji            Caldera     515   \n",
       "3      15.0     5.8               Antarctica             Shield    1370   \n",
       "4      15.0     5.8  Philippines and SE Asia  Stratovolcano(es)    1565   \n",
       "\n",
       "   ve_rock_chem     ve_tect_zone       ve_tect_crust  eq_ve_dist  \\\n",
       "0  Intermediate  Subduction Zone  Intermediate Crust  112.162847   \n",
       "1  Intermediate  Subduction Zone       Oceanic Crust   51.898694   \n",
       "2  Intermediate  Subduction Zone       Oceanic Crust  147.078303   \n",
       "3         Mafic  Subduction Zone       Oceanic Crust  176.936371   \n",
       "4  Intermediate  Subduction Zone   Continental Crust  274.261200   \n",
       "\n",
       "   eq_ve_yeardiff  potential_eruption  \n",
       "0              24                   0  \n",
       "1              51                   0  \n",
       "2              49                   1  \n",
       "3              42                   0  \n",
       "4              51                   0  "
      ]
     },
     "execution_count": 41,
     "metadata": {},
     "output_type": "execute_result"
    }
   ],
   "source": [
    "df.head()"
   ]
  },
  {
   "cell_type": "code",
   "execution_count": 42,
   "metadata": {
    "scrolled": true
   },
   "outputs": [
    {
     "name": "stdout",
     "output_type": "stream",
     "text": [
      "<class 'pandas.core.frame.DataFrame'>\n",
      "RangeIndex: 30230 entries, 0 to 30229\n",
      "Data columns (total 11 columns):\n",
      " #   Column              Non-Null Count  Dtype  \n",
      "---  ------              --------------  -----  \n",
      " 0   eq_depth            30230 non-null  float64\n",
      " 1   eq_mag              30230 non-null  float64\n",
      " 2   ve_region           30230 non-null  object \n",
      " 3   ve_type             30230 non-null  object \n",
      " 4   ve_ele              30230 non-null  int64  \n",
      " 5   ve_rock_chem        30230 non-null  object \n",
      " 6   ve_tect_zone        30230 non-null  object \n",
      " 7   ve_tect_crust       30230 non-null  object \n",
      " 8   eq_ve_dist          30230 non-null  float64\n",
      " 9   eq_ve_yeardiff      30230 non-null  int64  \n",
      " 10  potential_eruption  30230 non-null  int64  \n",
      "dtypes: float64(3), int64(3), object(5)\n",
      "memory usage: 2.5+ MB\n"
     ]
    }
   ],
   "source": [
    "df.info()"
   ]
  },
  {
   "cell_type": "code",
   "execution_count": 45,
   "metadata": {},
   "outputs": [
    {
     "data": {
      "text/plain": [
       "eq_depth               float64\n",
       "eq_mag                 float64\n",
       "ve_region             category\n",
       "ve_type               category\n",
       "ve_ele                   int64\n",
       "ve_rock_chem          category\n",
       "ve_tect_zone          category\n",
       "ve_tect_crust         category\n",
       "eq_ve_dist             float64\n",
       "eq_ve_yeardiff           int64\n",
       "potential_eruption       int64\n",
       "dtype: object"
      ]
     },
     "execution_count": 45,
     "metadata": {},
     "output_type": "execute_result"
    }
   ],
   "source": [
    "categorical = ['ve_region','ve_type','ve_rock_chem','ve_tect_zone','ve_tect_crust']\n",
    "for i in categorical:\n",
    "    df[i] = df[i].astype('category')\n",
    "df.dtypes"
   ]
  },
  {
   "cell_type": "code",
   "execution_count": 47,
   "metadata": {},
   "outputs": [
    {
     "data": {
      "text/html": [
       "<div>\n",
       "<style scoped>\n",
       "    .dataframe tbody tr th:only-of-type {\n",
       "        vertical-align: middle;\n",
       "    }\n",
       "\n",
       "    .dataframe tbody tr th {\n",
       "        vertical-align: top;\n",
       "    }\n",
       "\n",
       "    .dataframe thead th {\n",
       "        text-align: right;\n",
       "    }\n",
       "</style>\n",
       "<table border=\"1\" class=\"dataframe\">\n",
       "  <thead>\n",
       "    <tr style=\"text-align: right;\">\n",
       "      <th></th>\n",
       "      <th>eq_depth</th>\n",
       "      <th>eq_mag</th>\n",
       "      <th>ve_region</th>\n",
       "      <th>ve_type</th>\n",
       "      <th>ve_ele</th>\n",
       "      <th>ve_rock_chem</th>\n",
       "      <th>ve_tect_zone</th>\n",
       "      <th>ve_tect_crust</th>\n",
       "      <th>eq_ve_dist</th>\n",
       "      <th>eq_ve_yeardiff</th>\n",
       "      <th>potential_eruption</th>\n",
       "    </tr>\n",
       "  </thead>\n",
       "  <tbody>\n",
       "    <tr>\n",
       "      <th>0</th>\n",
       "      <td>131.6</td>\n",
       "      <td>6.0</td>\n",
       "      <td>8</td>\n",
       "      <td>18</td>\n",
       "      <td>-8</td>\n",
       "      <td>1</td>\n",
       "      <td>2</td>\n",
       "      <td>1</td>\n",
       "      <td>112.162847</td>\n",
       "      <td>24</td>\n",
       "      <td>0</td>\n",
       "    </tr>\n",
       "    <tr>\n",
       "      <th>1</th>\n",
       "      <td>80.0</td>\n",
       "      <td>5.8</td>\n",
       "      <td>7</td>\n",
       "      <td>14</td>\n",
       "      <td>1325</td>\n",
       "      <td>1</td>\n",
       "      <td>2</td>\n",
       "      <td>2</td>\n",
       "      <td>51.898694</td>\n",
       "      <td>51</td>\n",
       "      <td>0</td>\n",
       "    </tr>\n",
       "    <tr>\n",
       "      <th>2</th>\n",
       "      <td>20.0</td>\n",
       "      <td>6.2</td>\n",
       "      <td>15</td>\n",
       "      <td>0</td>\n",
       "      <td>515</td>\n",
       "      <td>1</td>\n",
       "      <td>2</td>\n",
       "      <td>2</td>\n",
       "      <td>147.078303</td>\n",
       "      <td>49</td>\n",
       "      <td>1</td>\n",
       "    </tr>\n",
       "    <tr>\n",
       "      <th>3</th>\n",
       "      <td>15.0</td>\n",
       "      <td>5.8</td>\n",
       "      <td>2</td>\n",
       "      <td>12</td>\n",
       "      <td>1370</td>\n",
       "      <td>2</td>\n",
       "      <td>2</td>\n",
       "      <td>2</td>\n",
       "      <td>176.936371</td>\n",
       "      <td>42</td>\n",
       "      <td>0</td>\n",
       "    </tr>\n",
       "    <tr>\n",
       "      <th>4</th>\n",
       "      <td>15.0</td>\n",
       "      <td>5.8</td>\n",
       "      <td>16</td>\n",
       "      <td>15</td>\n",
       "      <td>1565</td>\n",
       "      <td>1</td>\n",
       "      <td>2</td>\n",
       "      <td>0</td>\n",
       "      <td>274.261200</td>\n",
       "      <td>51</td>\n",
       "      <td>0</td>\n",
       "    </tr>\n",
       "  </tbody>\n",
       "</table>\n",
       "</div>"
      ],
      "text/plain": [
       "   eq_depth  eq_mag  ve_region  ve_type  ve_ele  ve_rock_chem  ve_tect_zone  \\\n",
       "0     131.6     6.0          8       18      -8             1             2   \n",
       "1      80.0     5.8          7       14    1325             1             2   \n",
       "2      20.0     6.2         15        0     515             1             2   \n",
       "3      15.0     5.8          2       12    1370             2             2   \n",
       "4      15.0     5.8         16       15    1565             1             2   \n",
       "\n",
       "   ve_tect_crust  eq_ve_dist  eq_ve_yeardiff  potential_eruption  \n",
       "0              1  112.162847              24                   0  \n",
       "1              2   51.898694              51                   0  \n",
       "2              2  147.078303              49                   1  \n",
       "3              2  176.936371              42                   0  \n",
       "4              0  274.261200              51                   0  "
      ]
     },
     "execution_count": 47,
     "metadata": {},
     "output_type": "execute_result"
    }
   ],
   "source": [
    "for i in categorical:\n",
    "    df[i] = df[i].cat.codes\n",
    "df.head()"
   ]
  },
  {
   "cell_type": "code",
   "execution_count": 48,
   "metadata": {},
   "outputs": [],
   "source": [
    "# for modelling we did not need: year, lat and lon, country and closest volcanic names\n",
    "y=df[\"potential_eruption\"]\n",
    "X=df.drop([\"potential_eruption\"], axis=1)\n"
   ]
  },
  {
   "cell_type": "code",
   "execution_count": 49,
   "metadata": {},
   "outputs": [
    {
     "data": {
      "text/plain": [
       "0    27217\n",
       "1     3013\n",
       "Name: potential_eruption, dtype: int64"
      ]
     },
     "execution_count": 49,
     "metadata": {},
     "output_type": "execute_result"
    }
   ],
   "source": [
    "y.value_counts() # imbalanced value"
   ]
  },
  {
   "cell_type": "code",
   "execution_count": 50,
   "metadata": {},
   "outputs": [],
   "source": [
    "# train_test_split\n",
    "X_train, X_test, y_train, y_test= train_test_split(X,y, stratify=y, random_state=20, test_size=0.25)"
   ]
  },
  {
   "cell_type": "markdown",
   "metadata": {},
   "source": [
    "### Baseline - LogisticRegression"
   ]
  },
  {
   "cell_type": "code",
   "execution_count": 99,
   "metadata": {
    "scrolled": true
   },
   "outputs": [
    {
     "name": "stdout",
     "output_type": "stream",
     "text": [
      "              precision    recall  f1-score   support\n",
      "\n",
      "           0       0.96      0.98      0.97      6805\n",
      "           1       0.80      0.62      0.70       753\n",
      "\n",
      "    accuracy                           0.95      7558\n",
      "   macro avg       0.88      0.80      0.84      7558\n",
      "weighted avg       0.94      0.95      0.94      7558\n",
      "\n"
     ]
    }
   ],
   "source": [
    "logreg=LogisticRegression(max_iter = 3000)\n",
    "logreg.fit(X_train, y_train)\n",
    "logreg_pred=logreg.predict(X_test)\n",
    "print(classification_report(y_test, logreg_pred))"
   ]
  },
  {
   "cell_type": "code",
   "execution_count": 129,
   "metadata": {},
   "outputs": [],
   "source": [
    "logreg_tuned=LogisticRegression(max_iter = 3000, fit_intercept = True, solver = 'lbfgs')"
   ]
  },
  {
   "cell_type": "code",
   "execution_count": 130,
   "metadata": {
    "scrolled": false
   },
   "outputs": [
    {
     "data": {
      "text/plain": [
       "LogisticRegression(max_iter=3000)"
      ]
     },
     "execution_count": 130,
     "metadata": {},
     "output_type": "execute_result"
    }
   ],
   "source": [
    "logreg_tuned.fit(X_train, y_train)"
   ]
  },
  {
   "cell_type": "code",
   "execution_count": 131,
   "metadata": {},
   "outputs": [],
   "source": [
    "logreg_tuned_pred=logreg.predict(X_test)"
   ]
  },
  {
   "cell_type": "code",
   "execution_count": 132,
   "metadata": {},
   "outputs": [
    {
     "name": "stdout",
     "output_type": "stream",
     "text": [
      "              precision    recall  f1-score   support\n",
      "\n",
      "           0       0.96      0.98      0.97      6805\n",
      "           1       0.80      0.62      0.70       753\n",
      "\n",
      "    accuracy                           0.95      7558\n",
      "   macro avg       0.88      0.80      0.84      7558\n",
      "weighted avg       0.94      0.95      0.94      7558\n",
      "\n"
     ]
    }
   ],
   "source": [
    "print(classification_report(y_test, logreg_tuned_pred))"
   ]
  },
  {
   "cell_type": "markdown",
   "metadata": {},
   "source": [
    "We are predicting wether an earthquake could trigger volcanic eruption. it would be better to stay cautious for natural disaster prediction, therefore our aim is higher recall score on value 1."
   ]
  },
  {
   "cell_type": "markdown",
   "metadata": {},
   "source": [
    "### Tuning - LogisticRegression"
   ]
  },
  {
   "cell_type": "code",
   "execution_count": 101,
   "metadata": {
    "scrolled": false
   },
   "outputs": [
    {
     "data": {
      "text/plain": [
       "GridSearchCV(cv=5, estimator=LogisticRegression(max_iter=3000), n_jobs=-1,\n",
       "             param_grid={'fit_intercept': [True, False],\n",
       "                         'solver': ['newton-cg', 'lbfgs', 'sag', 'saga']},\n",
       "             scoring='accuracy')"
      ]
     },
     "execution_count": 101,
     "metadata": {},
     "output_type": "execute_result"
    }
   ],
   "source": [
    "gridsearch= GridSearchCV(estimator=logreg,\n",
    "                        param_grid={\n",
    "                            \"solver\" : ['newton-cg', 'lbfgs', 'sag', 'saga'], \n",
    "                            \"fit_intercept\":[True, False]\n",
    "                        },\n",
    "                         scoring=\"accuracy\",\n",
    "                         cv=5,\n",
    "                         n_jobs=-1\n",
    "                        )\n",
    "\n",
    "gridsearch.fit(X_train, y_train)"
   ]
  },
  {
   "cell_type": "code",
   "execution_count": 102,
   "metadata": {},
   "outputs": [
    {
     "data": {
      "text/plain": [
       "{'fit_intercept': True, 'solver': 'lbfgs'}"
      ]
     },
     "execution_count": 102,
     "metadata": {},
     "output_type": "execute_result"
    }
   ],
   "source": [
    "# It seems the default settings turned out to be the best parameter on LogisticRegression\n",
    "gridsearch.best_params_"
   ]
  },
  {
   "cell_type": "code",
   "execution_count": 103,
   "metadata": {
    "scrolled": true
   },
   "outputs": [
    {
     "data": {
      "text/plain": [
       "0.944028044387402"
      ]
     },
     "execution_count": 103,
     "metadata": {},
     "output_type": "execute_result"
    }
   ],
   "source": [
    "gridsearch.best_score_"
   ]
  },
  {
   "cell_type": "markdown",
   "metadata": {},
   "source": [
    "### SMOTE - LogisticRegression\n",
    "Next step is to try dealing with our imbalanced data with SMOTE"
   ]
  },
  {
   "cell_type": "code",
   "execution_count": 106,
   "metadata": {},
   "outputs": [],
   "source": [
    "# we should try to deal with imbalanced data with SMOTE\n",
    "smote=SMOTE()\n",
    "X_smote, y_smote=smote.fit_sample(X_train,y_train)"
   ]
  },
  {
   "cell_type": "code",
   "execution_count": 107,
   "metadata": {
    "scrolled": true
   },
   "outputs": [
    {
     "name": "stdout",
     "output_type": "stream",
     "text": [
      "              precision    recall  f1-score   support\n",
      "\n",
      "           0       0.99      0.92      0.96      6805\n",
      "           1       0.57      0.92      0.71       753\n",
      "\n",
      "    accuracy                           0.92      7558\n",
      "   macro avg       0.78      0.92      0.83      7558\n",
      "weighted avg       0.95      0.92      0.93      7558\n",
      "\n"
     ]
    }
   ],
   "source": [
    "logreg=LogisticRegression(max_iter = 3000)\n",
    "logreg.fit(X_smote, y_smote)\n",
    "logreg_pred=logreg.predict(X_test)\n",
    "print(classification_report(y_test, logreg_pred))"
   ]
  },
  {
   "cell_type": "code",
   "execution_count": 122,
   "metadata": {},
   "outputs": [
    {
     "name": "stdout",
     "output_type": "stream",
     "text": [
      "================ Fold Number 1 ================\n",
      "              precision    recall  f1-score   support\n",
      "\n",
      "           0       0.99      0.92      0.96      4058\n",
      "           1       0.59      0.92      0.72       477\n",
      "\n",
      "    accuracy                           0.92      4535\n",
      "   macro avg       0.79      0.92      0.84      4535\n",
      "weighted avg       0.95      0.92      0.93      4535\n",
      "\n",
      "\n",
      "================ Fold Number 2 ================\n",
      "              precision    recall  f1-score   support\n",
      "\n",
      "           0       0.99      0.93      0.96      4111\n",
      "           1       0.58      0.92      0.71       424\n",
      "\n",
      "    accuracy                           0.93      4535\n",
      "   macro avg       0.78      0.92      0.83      4535\n",
      "weighted avg       0.95      0.93      0.94      4535\n",
      "\n",
      "\n",
      "================ Fold Number 3 ================\n",
      "              precision    recall  f1-score   support\n",
      "\n",
      "           0       0.99      0.94      0.96      4066\n",
      "           1       0.63      0.93      0.75       468\n",
      "\n",
      "    accuracy                           0.94      4534\n",
      "   macro avg       0.81      0.93      0.86      4534\n",
      "weighted avg       0.95      0.94      0.94      4534\n",
      "\n",
      "\n",
      "================ Fold Number 4 ================\n",
      "              precision    recall  f1-score   support\n",
      "\n",
      "           0       0.99      0.93      0.96      4076\n",
      "           1       0.60      0.93      0.73       458\n",
      "\n",
      "    accuracy                           0.93      4534\n",
      "   macro avg       0.80      0.93      0.85      4534\n",
      "weighted avg       0.95      0.93      0.94      4534\n",
      "\n",
      "\n",
      "================ Fold Number 5 ================\n",
      "              precision    recall  f1-score   support\n",
      "\n",
      "           0       0.99      0.93      0.96      4101\n",
      "           1       0.59      0.95      0.73       433\n",
      "\n",
      "    accuracy                           0.93      4534\n",
      "   macro avg       0.79      0.94      0.84      4534\n",
      "weighted avg       0.96      0.93      0.94      4534\n",
      "\n",
      "\n"
     ]
    },
    {
     "name": "stderr",
     "output_type": "stream",
     "text": [
      "C:\\Users\\adinatha\\anaconda3\\lib\\site-packages\\sklearn\\linear_model\\_logistic.py:764: ConvergenceWarning: lbfgs failed to converge (status=1):\n",
      "STOP: TOTAL NO. of ITERATIONS REACHED LIMIT.\n",
      "\n",
      "Increase the number of iterations (max_iter) or scale the data as shown in:\n",
      "    https://scikit-learn.org/stable/modules/preprocessing.html\n",
      "Please also refer to the documentation for alternative solver options:\n",
      "    https://scikit-learn.org/stable/modules/linear_model.html#logistic-regression\n",
      "  extra_warning_msg=_LOGISTIC_SOLVER_CONVERGENCE_MSG)\n"
     ]
    }
   ],
   "source": [
    "from sklearn.model_selection import KFold\n",
    "kf = KFold(n_splits=5)\n",
    "\n",
    "ClassReport = []\n",
    "\n",
    "for train_index , test_index in kf.split(X_train,y_train):\n",
    "    X_train_kf,X_test_kf,y_train_kf,y_test_kf = X_train.iloc[train_index],X_train.iloc[test_index],y_train.iloc[train_index],y_train.iloc[test_index]\n",
    "    model = LogisticRegression(max_iter = 3000)\n",
    "    model.fit(X_train_kf,y_train_kf)\n",
    "    pred = logreg.predict(X_test_kf)\n",
    "\n",
    "    ClassReport.append(classification_report(y_test_kf,pred))\n",
    "\n",
    "    \n",
    "n = 1\n",
    "for item in ClassReport:\n",
    "  print('================ Fold Number %d ================' %(n))\n",
    "  n += 1\n",
    "  print(item)\n",
    "  print()"
   ]
  },
  {
   "cell_type": "code",
   "execution_count": 108,
   "metadata": {},
   "outputs": [],
   "source": [
    "import pickle\n"
   ]
  },
  {
   "cell_type": "code",
   "execution_count": 110,
   "metadata": {},
   "outputs": [],
   "source": [
    "filename = 'final_model'\n",
    "pickle.dump(logreg, open(filename, 'wb'))"
   ]
  },
  {
   "cell_type": "code",
   "execution_count": 116,
   "metadata": {},
   "outputs": [],
   "source": [
    "filename = 'x_dummies_column.sav'\n",
    "pickle.dump(X_smote.columns,open(filename, 'wb'))"
   ]
  },
  {
   "cell_type": "code",
   "execution_count": 115,
   "metadata": {},
   "outputs": [],
   "source": [
    "filename = 'real_column.sav'\n",
    "pickle.dump(df.drop('potential_eruption',axis = 1).columns, open(filename, 'wb'))"
   ]
  },
  {
   "cell_type": "code",
   "execution_count": 134,
   "metadata": {},
   "outputs": [],
   "source": [
    "import joblib"
   ]
  },
  {
   "cell_type": "code",
   "execution_count": 135,
   "metadata": {},
   "outputs": [
    {
     "data": {
      "text/plain": [
       "['model_joblib']"
      ]
     },
     "execution_count": 135,
     "metadata": {},
     "output_type": "execute_result"
    }
   ],
   "source": [
    "joblib.dump(logreg,'model_joblib')"
   ]
  },
  {
   "cell_type": "code",
   "execution_count": 133,
   "metadata": {},
   "outputs": [
    {
     "data": {
      "text/html": [
       "<div>\n",
       "<style scoped>\n",
       "    .dataframe tbody tr th:only-of-type {\n",
       "        vertical-align: middle;\n",
       "    }\n",
       "\n",
       "    .dataframe tbody tr th {\n",
       "        vertical-align: top;\n",
       "    }\n",
       "\n",
       "    .dataframe thead th {\n",
       "        text-align: right;\n",
       "    }\n",
       "</style>\n",
       "<table border=\"1\" class=\"dataframe\">\n",
       "  <thead>\n",
       "    <tr style=\"text-align: right;\">\n",
       "      <th></th>\n",
       "      <th>eq_depth</th>\n",
       "      <th>eq_mag</th>\n",
       "      <th>ve_region</th>\n",
       "      <th>ve_type</th>\n",
       "      <th>ve_ele</th>\n",
       "      <th>ve_rock_chem</th>\n",
       "      <th>ve_tect_zone</th>\n",
       "      <th>ve_tect_crust</th>\n",
       "      <th>eq_ve_dist</th>\n",
       "      <th>eq_ve_yeardiff</th>\n",
       "    </tr>\n",
       "  </thead>\n",
       "  <tbody>\n",
       "    <tr>\n",
       "      <th>0</th>\n",
       "      <td>131.6</td>\n",
       "      <td>6.0</td>\n",
       "      <td>8</td>\n",
       "      <td>18</td>\n",
       "      <td>-8</td>\n",
       "      <td>1</td>\n",
       "      <td>2</td>\n",
       "      <td>1</td>\n",
       "      <td>112.162847</td>\n",
       "      <td>24</td>\n",
       "    </tr>\n",
       "    <tr>\n",
       "      <th>1</th>\n",
       "      <td>80.0</td>\n",
       "      <td>5.8</td>\n",
       "      <td>7</td>\n",
       "      <td>14</td>\n",
       "      <td>1325</td>\n",
       "      <td>1</td>\n",
       "      <td>2</td>\n",
       "      <td>2</td>\n",
       "      <td>51.898694</td>\n",
       "      <td>51</td>\n",
       "    </tr>\n",
       "    <tr>\n",
       "      <th>2</th>\n",
       "      <td>20.0</td>\n",
       "      <td>6.2</td>\n",
       "      <td>15</td>\n",
       "      <td>0</td>\n",
       "      <td>515</td>\n",
       "      <td>1</td>\n",
       "      <td>2</td>\n",
       "      <td>2</td>\n",
       "      <td>147.078303</td>\n",
       "      <td>49</td>\n",
       "    </tr>\n",
       "    <tr>\n",
       "      <th>3</th>\n",
       "      <td>15.0</td>\n",
       "      <td>5.8</td>\n",
       "      <td>2</td>\n",
       "      <td>12</td>\n",
       "      <td>1370</td>\n",
       "      <td>2</td>\n",
       "      <td>2</td>\n",
       "      <td>2</td>\n",
       "      <td>176.936371</td>\n",
       "      <td>42</td>\n",
       "    </tr>\n",
       "    <tr>\n",
       "      <th>4</th>\n",
       "      <td>15.0</td>\n",
       "      <td>5.8</td>\n",
       "      <td>16</td>\n",
       "      <td>15</td>\n",
       "      <td>1565</td>\n",
       "      <td>1</td>\n",
       "      <td>2</td>\n",
       "      <td>0</td>\n",
       "      <td>274.261200</td>\n",
       "      <td>51</td>\n",
       "    </tr>\n",
       "  </tbody>\n",
       "</table>\n",
       "</div>"
      ],
      "text/plain": [
       "   eq_depth  eq_mag  ve_region  ve_type  ve_ele  ve_rock_chem  ve_tect_zone  \\\n",
       "0     131.6     6.0          8       18      -8             1             2   \n",
       "1      80.0     5.8          7       14    1325             1             2   \n",
       "2      20.0     6.2         15        0     515             1             2   \n",
       "3      15.0     5.8          2       12    1370             2             2   \n",
       "4      15.0     5.8         16       15    1565             1             2   \n",
       "\n",
       "   ve_tect_crust  eq_ve_dist  eq_ve_yeardiff  \n",
       "0              1  112.162847              24  \n",
       "1              2   51.898694              51  \n",
       "2              2  147.078303              49  \n",
       "3              2  176.936371              42  \n",
       "4              0  274.261200              51  "
      ]
     },
     "execution_count": 133,
     "metadata": {},
     "output_type": "execute_result"
    }
   ],
   "source": [
    "X.head()"
   ]
  }
 ],
 "metadata": {
  "kernelspec": {
   "display_name": "Python 3",
   "language": "python",
   "name": "python3"
  },
  "language_info": {
   "codemirror_mode": {
    "name": "ipython",
    "version": 3
   },
   "file_extension": ".py",
   "mimetype": "text/x-python",
   "name": "python",
   "nbconvert_exporter": "python",
   "pygments_lexer": "ipython3",
   "version": "3.7.6"
  }
 },
 "nbformat": 4,
 "nbformat_minor": 4
}
